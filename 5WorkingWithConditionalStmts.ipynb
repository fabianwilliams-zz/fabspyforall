{
 "cells": [
  {
   "cell_type": "markdown",
   "metadata": {},
   "source": [
    "### Conditional Statements"
   ]
  },
  {
   "cell_type": "code",
   "execution_count": 1,
   "metadata": {},
   "outputs": [],
   "source": [
    "a = 5 \n",
    "b = 10\n",
    "c = 15"
   ]
  },
  {
   "cell_type": "code",
   "execution_count": 3,
   "metadata": {},
   "outputs": [
    {
     "name": "stdout",
     "output_type": "stream",
     "text": [
      "B is greater than A\n"
     ]
    }
   ],
   "source": [
    "if (b>a):\n",
    "    print(\"B is greater than A\")"
   ]
  },
  {
   "cell_type": "code",
   "execution_count": 4,
   "metadata": {},
   "outputs": [],
   "source": [
    "#lets use the less than sign this time, without an else statement this if will evaluate to false and noting will print\n",
    "if (b<a):\n",
    "    print(\"B is less than A\")"
   ]
  },
  {
   "cell_type": "code",
   "execution_count": 5,
   "metadata": {},
   "outputs": [
    {
     "name": "stdout",
     "output_type": "stream",
     "text": [
      "A is less than B\n"
     ]
    }
   ],
   "source": [
    "#lets walk this through now with A asking if its less than B which should be true\n",
    "if (a<b):\n",
    "    print(\"A is less than B\")"
   ]
  },
  {
   "cell_type": "code",
   "execution_count": 10,
   "metadata": {},
   "outputs": [
    {
     "name": "stdout",
     "output_type": "stream",
     "text": [
      "B is NOT less than A\n",
      "A is: 5\n",
      "B is: 10\n"
     ]
    }
   ],
   "source": [
    "#Lets make the original work now by using an else statement\n",
    "if (b<a):\n",
    "    print(\"B is less than A\")\n",
    "    print(b)\n",
    "    print(a)\n",
    "else:\n",
    "    print(\"B is NOT less than A\")\n",
    "    print(\"A is: \" + str(a))\n",
    "    print(\"B is: \" + str(b))"
   ]
  },
  {
   "cell_type": "code",
   "execution_count": 11,
   "metadata": {},
   "outputs": [
    {
     "name": "stdout",
     "output_type": "stream",
     "text": [
      "C has to be the greatest\n"
     ]
    }
   ],
   "source": [
    "if (a>b) & (a>c):\n",
    "    print(\"The value of A is the greatest\")\n",
    "elif(b>a) & (b>c):\n",
    "    print(\"The value of B is the greatest\")\n",
    "else:\n",
    "    print(\"C has to be the greatest\")\n",
    "    "
   ]
  },
  {
   "cell_type": "markdown",
   "metadata": {},
   "source": [
    "#### Using If with Tuples"
   ]
  },
  {
   "cell_type": "code",
   "execution_count": 13,
   "metadata": {},
   "outputs": [],
   "source": [
    "tupAlpha = (\"a\", \"b\", \"c\")"
   ]
  },
  {
   "cell_type": "code",
   "execution_count": 16,
   "metadata": {},
   "outputs": [
    {
     "name": "stdout",
     "output_type": "stream",
     "text": [
      "We found you letter C\n"
     ]
    }
   ],
   "source": [
    "#using the KEY WORD \"in\"\n",
    "if \"c\" in tupAlpha:\n",
    "    print(\"We found you letter C\")"
   ]
  },
  {
   "cell_type": "code",
   "execution_count": 15,
   "metadata": {},
   "outputs": [
    {
     "name": "stdout",
     "output_type": "stream",
     "text": [
      "Cant find letter D\n"
     ]
    }
   ],
   "source": [
    "if \"d\" in tupAlpha:\n",
    "    print(\"Here you are letter D\")\n",
    "else:\n",
    "    print(\"Cant find letter D\")"
   ]
  },
  {
   "cell_type": "code",
   "execution_count": 17,
   "metadata": {},
   "outputs": [],
   "source": [
    "#Lets do something intelligent, something you may want to do in real world\n",
    "#that is.. if you find what you are looking for then update it to something else"
   ]
  },
  {
   "cell_type": "markdown",
   "metadata": {},
   "source": [
    "#### Working with Lists"
   ]
  },
  {
   "cell_type": "code",
   "execution_count": 18,
   "metadata": {},
   "outputs": [],
   "source": [
    "list1 = [1,2,3,4,5]"
   ]
  },
  {
   "cell_type": "code",
   "execution_count": 20,
   "metadata": {},
   "outputs": [
    {
     "name": "stdout",
     "output_type": "stream",
     "text": [
      "[1000, 2, 3, 4, 5]\n"
     ]
    }
   ],
   "source": [
    "if list1[0]==1:\n",
    "    list1[0]=1000\n",
    "    print(list1)"
   ]
  },
  {
   "cell_type": "markdown",
   "metadata": {},
   "source": [
    "#### Working with Dictionary"
   ]
  },
  {
   "cell_type": "code",
   "execution_count": 23,
   "metadata": {},
   "outputs": [
    {
     "name": "stdout",
     "output_type": "stream",
     "text": [
      "{'Strawberry': 5, 'Grapes': 2.39, 'Peaches': 4.99, 'Mangos': 2.99}\n"
     ]
    }
   ],
   "source": [
    "PriceOfFruits = {\"Strawberry\": 5, \"Grapes\": 2.39, \"Peaches\": 4.99, \"Mangos\": 2.99}\n",
    "print(PriceOfFruits)"
   ]
  },
  {
   "cell_type": "code",
   "execution_count": 24,
   "metadata": {},
   "outputs": [
    {
     "name": "stdout",
     "output_type": "stream",
     "text": [
      "{'Strawberry': 5, 'Grapes': 3.0, 'Peaches': 4.99, 'Mangos': 2.99}\n"
     ]
    }
   ],
   "source": [
    "if PriceOfFruits[\"Grapes\"] < 3:\n",
    "    PriceOfFruits[\"Grapes\"] = 3.00\n",
    "    print(PriceOfFruits)"
   ]
  },
  {
   "cell_type": "code",
   "execution_count": null,
   "metadata": {},
   "outputs": [],
   "source": []
  }
 ],
 "metadata": {
  "kernelspec": {
   "display_name": "Python 3",
   "language": "python",
   "name": "python3"
  },
  "language_info": {
   "codemirror_mode": {
    "name": "ipython",
    "version": 3
   },
   "file_extension": ".py",
   "mimetype": "text/x-python",
   "name": "python",
   "nbconvert_exporter": "python",
   "pygments_lexer": "ipython3",
   "version": "3.7.3"
  }
 },
 "nbformat": 4,
 "nbformat_minor": 2
}
